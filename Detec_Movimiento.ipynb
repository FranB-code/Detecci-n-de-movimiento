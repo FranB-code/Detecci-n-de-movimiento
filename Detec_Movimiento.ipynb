{
 "cells": [
  {
   "cell_type": "code",
   "execution_count": null,
   "id": "c9d94e95",
   "metadata": {},
   "outputs": [
    {
     "name": "stderr",
     "output_type": "stream",
     "text": [
      "2025-03-31 20:10:21.860 python3.10[71198:2730610] WARNING: AVCaptureDeviceTypeExternal is deprecated for Continuity Cameras. Please use AVCaptureDeviceTypeContinuityCamera and add NSCameraUseContinuityCameraDeviceType to your Info.plist.\n"
     ]
    }
   ],
   "source": [
    "#Deteccion de movimiento con openCV-Sustraccion de imagenes\n",
    "\n",
    "import cv2\n",
    "cap = cv2.VideoCapture(1)\n",
    "i = 0\n",
    "element_e = cv2.getStructuringElement(cv2.MORPH_RECT,(3,3))\n",
    "\n",
    "while(cap.isOpened()):\n",
    "    ret, frame = cap.read() \n",
    "\n",
    "    if (ret == True):\n",
    "        img_gray = cv2.cvtColor(frame,cv2.COLOR_BGR2GRAY)\n",
    "        if i == 20:\n",
    "            bgGray = img_gray\n",
    "\n",
    "        if i > 20:\n",
    "            dif = cv2.absdiff(img_gray,bgGray)\n",
    "            _,th = cv2.threshold(dif,50,255,cv2.THRESH_BINARY)\n",
    "            contornos,_ = cv2.findContours(th,cv2.RETR_EXTERNAL,cv2.CHAIN_APPROX_SIMPLE)\n",
    "            erosion = cv2.erode(th,element_e)\n",
    "            cv2.imshow('Imagen binaria tras aplicar el operador de erosion',erosion)\n",
    "            for c in contornos:\n",
    "                area = cv2.contourArea(c)\n",
    "                if (area>9000):\n",
    "                    x,y,w,h = cv2.boundingRect(c)\n",
    "                    cv2.rectangle(frame,(x,y),(x+w,y+h),(0,255,0),2)\n",
    "                    cv2.putText(frame,str(area),(x,y-5),cv2.FONT_HERSHEY_SIMPLEX,0.5,(255,255,0),4)\n",
    "            \n",
    "                                \n",
    "        cv2.imshow('Video de entrada',frame)\n",
    "        i = i+1\n",
    "        if(cv2.waitKey(1) & 0xFF == ord('q')):\n",
    "            break\n",
    "    else:\n",
    "        break\n",
    "\n",
    "cap.release()\n",
    "cv2.destroyAllWindows()"
   ]
  },
  {
   "cell_type": "code",
   "execution_count": null,
   "id": "6119d890-bbc6-45b6-95c6-42b8dde7f6be",
   "metadata": {},
   "outputs": [],
   "source": []
  },
  {
   "cell_type": "code",
   "execution_count": null,
   "id": "9204a583-b79a-42f0-8431-1aa2971223b5",
   "metadata": {},
   "outputs": [],
   "source": []
  }
 ],
 "metadata": {
  "kernelspec": {
   "display_name": "Python 3 (ipykernel)",
   "language": "python",
   "name": "python3"
  },
  "language_info": {
   "codemirror_mode": {
    "name": "ipython",
    "version": 3
   },
   "file_extension": ".py",
   "mimetype": "text/x-python",
   "name": "python",
   "nbconvert_exporter": "python",
   "pygments_lexer": "ipython3",
   "version": "3.10.14"
  }
 },
 "nbformat": 4,
 "nbformat_minor": 5
}
